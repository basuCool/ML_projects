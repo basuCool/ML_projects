{
 "cells": [
  {
   "cell_type": "code",
   "execution_count": null,
   "metadata": {},
   "outputs": [],
   "source": [
    "import config\n",
    "\n",
    "\"\"\"GLOBAL CONFIG\"\"\"\n",
    "PATH_NON_TECH_DICT = config.PATH_NON_TECH_DICT\n",
    "PATH_TECH_DICT = config.PATH_TECH_DICT\n",
    "PATH_WORD2VEC_MODEL = config.PATH_WORD2VEC_MODEL\n",
    "PATH_WORD2VEC_DOCS = config.PATH_WORD2VEC_DOCS\n",
    "PATH_DB_SUBGROUPED = config.PATH_DB_SUBGROUPED\n",
    "PATH_OUTPUTS = config.PATH_OUTPUTS\n",
    "PATH_TEST_DATA = config.PATH_TEST_DATA\n",
    "\n",
    "LANGUAGE = config.LANGUAGE\n",
    "AUTOCORRECT_ON = config.AUTOCORRECT_ON\n",
    "STEMMED_WORDS = config.STEMMED_WORDS\n"
   ]
  },
  {
   "cell_type": "code",
   "execution_count": null,
   "metadata": {},
   "outputs": [],
   "source": [
    "\"\"\"Gensim model\"\"\"\n",
    "import gensim\n",
    "from gensim.parsing.preprocessing import remove_stopwords\n",
    "from gensim.parsing.preprocessing import preprocess_string\n",
    "from gensim.parsing.preprocessing import strip_tags\n",
    "from gensim.parsing.preprocessing import strip_punctuation\n",
    "from gensim.parsing.preprocessing import strip_multiple_whitespaces\n",
    "from gensim.parsing.preprocessing import stem_text\n",
    "\n",
    "import pickle\n",
    "import pprint\n",
    "from IPython.core.display import display, HTML"
   ]
  },
  {
   "cell_type": "code",
   "execution_count": null,
   "metadata": {},
   "outputs": [],
   "source": [
    "f = open(PATH_WORD2VEC_MODEL,\"rb\")\n",
    "model_num=pickle.load(f)\n",
    "f.close()"
   ]
  },
  {
   "cell_type": "code",
   "execution_count": null,
   "metadata": {},
   "outputs": [],
   "source": [
    "def stats(dist):\n",
    "    pprint(\"Max:\",max(dist))\n",
    "    pprint(\"Min:\",min(dist))\n",
    "    pprint(\"Avg:\",sum(dist)/len(dist))"
   ]
  },
  {
   "cell_type": "code",
   "execution_count": null,
   "metadata": {},
   "outputs": [],
   "source": [
    "#ACCURACY TESTER\n",
    "\n",
    "accuracy = []\n",
    "\n",
    "for k,v in model_num.items():\n",
    "    accuracy_list = model.wv.evaluate_word_pairs(PATH_TEST_DATA)\n",
    "    avg_accuracy = sum(accuracy_list)/len(accuracy_list)\n",
    "    accuracy.append(avg_accuracy)\n",
    "\n",
    "stats(accuracy)"
   ]
  }
 ],
 "metadata": {
  "kernelspec": {
   "display_name": "Python 3",
   "language": "python",
   "name": "python3"
  },
  "language_info": {
   "codemirror_mode": {
    "name": "ipython",
    "version": 3
   },
   "file_extension": ".py",
   "mimetype": "text/x-python",
   "name": "python",
   "nbconvert_exporter": "python",
   "pygments_lexer": "ipython3",
   "version": "3.5.5"
  }
 },
 "nbformat": 4,
 "nbformat_minor": 2
}
