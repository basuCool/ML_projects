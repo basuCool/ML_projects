{
 "cells": [
  {
   "cell_type": "markdown",
   "metadata": {},
   "source": [
    "# Import Dataset"
   ]
  },
  {
   "cell_type": "code",
   "execution_count": 1,
   "metadata": {},
   "outputs": [],
   "source": [
    "import pandas as pd\n",
    "import numpy as np\n",
    "\n",
    "# Libraries for Data Visualization\n",
    "import seaborn as sns\n",
    "import matplotlib.pyplot as plt\n",
    "%matplotlib inline"
   ]
  },
  {
   "cell_type": "code",
   "execution_count": 2,
   "metadata": {},
   "outputs": [
    {
     "data": {
      "text/html": [
       "<div>\n",
       "<style scoped>\n",
       "    .dataframe tbody tr th:only-of-type {\n",
       "        vertical-align: middle;\n",
       "    }\n",
       "\n",
       "    .dataframe tbody tr th {\n",
       "        vertical-align: top;\n",
       "    }\n",
       "\n",
       "    .dataframe thead th {\n",
       "        text-align: right;\n",
       "    }\n",
       "</style>\n",
       "<table border=\"1\" class=\"dataframe\">\n",
       "  <thead>\n",
       "    <tr style=\"text-align: right;\">\n",
       "      <th></th>\n",
       "      <th>date</th>\n",
       "      <th>hour</th>\n",
       "      <th>demand</th>\n",
       "    </tr>\n",
       "  </thead>\n",
       "  <tbody>\n",
       "    <tr>\n",
       "      <th>0</th>\n",
       "      <td>2018-08-18</td>\n",
       "      <td>9</td>\n",
       "      <td>91</td>\n",
       "    </tr>\n",
       "    <tr>\n",
       "      <th>1</th>\n",
       "      <td>2018-08-18</td>\n",
       "      <td>10</td>\n",
       "      <td>21</td>\n",
       "    </tr>\n",
       "    <tr>\n",
       "      <th>2</th>\n",
       "      <td>2018-08-18</td>\n",
       "      <td>13</td>\n",
       "      <td>23</td>\n",
       "    </tr>\n",
       "    <tr>\n",
       "      <th>3</th>\n",
       "      <td>2018-08-18</td>\n",
       "      <td>14</td>\n",
       "      <td>104</td>\n",
       "    </tr>\n",
       "    <tr>\n",
       "      <th>4</th>\n",
       "      <td>2018-08-18</td>\n",
       "      <td>15</td>\n",
       "      <td>81</td>\n",
       "    </tr>\n",
       "    <tr>\n",
       "      <th>5</th>\n",
       "      <td>2018-08-18</td>\n",
       "      <td>16</td>\n",
       "      <td>37</td>\n",
       "    </tr>\n",
       "    <tr>\n",
       "      <th>6</th>\n",
       "      <td>2018-08-18</td>\n",
       "      <td>17</td>\n",
       "      <td>27</td>\n",
       "    </tr>\n",
       "    <tr>\n",
       "      <th>7</th>\n",
       "      <td>2018-08-18</td>\n",
       "      <td>18</td>\n",
       "      <td>66</td>\n",
       "    </tr>\n",
       "    <tr>\n",
       "      <th>8</th>\n",
       "      <td>2018-08-18</td>\n",
       "      <td>19</td>\n",
       "      <td>80</td>\n",
       "    </tr>\n",
       "    <tr>\n",
       "      <th>9</th>\n",
       "      <td>2018-08-18</td>\n",
       "      <td>20</td>\n",
       "      <td>52</td>\n",
       "    </tr>\n",
       "  </tbody>\n",
       "</table>\n",
       "</div>"
      ],
      "text/plain": [
       "         date  hour  demand\n",
       "0  2018-08-18     9      91\n",
       "1  2018-08-18    10      21\n",
       "2  2018-08-18    13      23\n",
       "3  2018-08-18    14     104\n",
       "4  2018-08-18    15      81\n",
       "5  2018-08-18    16      37\n",
       "6  2018-08-18    17      27\n",
       "7  2018-08-18    18      66\n",
       "8  2018-08-18    19      80\n",
       "9  2018-08-18    20      52"
      ]
     },
     "execution_count": 2,
     "metadata": {},
     "output_type": "execute_result"
    }
   ],
   "source": [
    "# Read Dataset\n",
    "dataset = pd.read_csv(\"train_E1GspfA.csv\")\n",
    "df = dataset\n",
    "dataset.head(10)"
   ]
  },
  {
   "cell_type": "code",
   "execution_count": 3,
   "metadata": {},
   "outputs": [
    {
     "name": "stdout",
     "output_type": "stream",
     "text": [
      "<class 'pandas.core.frame.DataFrame'>\n",
      "RangeIndex: 18247 entries, 0 to 18246\n",
      "Data columns (total 3 columns):\n",
      " #   Column  Non-Null Count  Dtype \n",
      "---  ------  --------------  ----- \n",
      " 0   date    18247 non-null  object\n",
      " 1   hour    18247 non-null  int64 \n",
      " 2   demand  18247 non-null  int64 \n",
      "dtypes: int64(2), object(1)\n",
      "memory usage: 427.8+ KB\n"
     ]
    }
   ],
   "source": [
    "dataset.info()"
   ]
  },
  {
   "cell_type": "markdown",
   "metadata": {},
   "source": [
    "# Data Preprocessing"
   ]
  },
  {
   "cell_type": "code",
   "execution_count": 4,
   "metadata": {},
   "outputs": [],
   "source": [
    "# Converting Date to Datetime (which is Object)\n",
    "dataset['date'] = pd.to_datetime(dataset['date'])"
   ]
  },
  {
   "cell_type": "code",
   "execution_count": 5,
   "metadata": {},
   "outputs": [
    {
     "name": "stderr",
     "output_type": "stream",
     "text": [
      "<ipython-input-5-8516f241edf9>:10: FutureWarning: Series.dt.weekofyear and Series.dt.week have been deprecated.  Please use Series.dt.isocalendar().week instead.\n",
      "  df['weekofyear'] = dataset.date.dt.weekofyear\n"
     ]
    }
   ],
   "source": [
    "# Extracting date, year, month, day, dayofyear, dayofweek, weekofyear\n",
    "# to find more insights in the dataset\n",
    "\n",
    "df['date'] = pd.to_datetime(dataset['date'])\n",
    "df['year'] = dataset.date.dt.year\n",
    "df['month'] = dataset.date.dt.month\n",
    "df['day'] = dataset.date.dt.day\n",
    "df['dayofyear'] = dataset.date.dt.dayofyear\n",
    "df['dayofweek'] = dataset.date.dt.dayofweek\n",
    "df['weekofyear'] = dataset.date.dt.weekofyear"
   ]
  },
  {
   "cell_type": "code",
   "execution_count": 6,
   "metadata": {},
   "outputs": [
    {
     "data": {
      "text/html": [
       "<div>\n",
       "<style scoped>\n",
       "    .dataframe tbody tr th:only-of-type {\n",
       "        vertical-align: middle;\n",
       "    }\n",
       "\n",
       "    .dataframe tbody tr th {\n",
       "        vertical-align: top;\n",
       "    }\n",
       "\n",
       "    .dataframe thead th {\n",
       "        text-align: right;\n",
       "    }\n",
       "</style>\n",
       "<table border=\"1\" class=\"dataframe\">\n",
       "  <thead>\n",
       "    <tr style=\"text-align: right;\">\n",
       "      <th></th>\n",
       "      <th>date</th>\n",
       "      <th>hour</th>\n",
       "      <th>demand</th>\n",
       "      <th>year</th>\n",
       "      <th>month</th>\n",
       "      <th>day</th>\n",
       "      <th>dayofyear</th>\n",
       "      <th>dayofweek</th>\n",
       "      <th>weekofyear</th>\n",
       "    </tr>\n",
       "  </thead>\n",
       "  <tbody>\n",
       "    <tr>\n",
       "      <th>0</th>\n",
       "      <td>2018-08-18</td>\n",
       "      <td>9</td>\n",
       "      <td>91</td>\n",
       "      <td>2018</td>\n",
       "      <td>8</td>\n",
       "      <td>18</td>\n",
       "      <td>230</td>\n",
       "      <td>5</td>\n",
       "      <td>33</td>\n",
       "    </tr>\n",
       "    <tr>\n",
       "      <th>1</th>\n",
       "      <td>2018-08-18</td>\n",
       "      <td>10</td>\n",
       "      <td>21</td>\n",
       "      <td>2018</td>\n",
       "      <td>8</td>\n",
       "      <td>18</td>\n",
       "      <td>230</td>\n",
       "      <td>5</td>\n",
       "      <td>33</td>\n",
       "    </tr>\n",
       "    <tr>\n",
       "      <th>2</th>\n",
       "      <td>2018-08-18</td>\n",
       "      <td>13</td>\n",
       "      <td>23</td>\n",
       "      <td>2018</td>\n",
       "      <td>8</td>\n",
       "      <td>18</td>\n",
       "      <td>230</td>\n",
       "      <td>5</td>\n",
       "      <td>33</td>\n",
       "    </tr>\n",
       "    <tr>\n",
       "      <th>3</th>\n",
       "      <td>2018-08-18</td>\n",
       "      <td>14</td>\n",
       "      <td>104</td>\n",
       "      <td>2018</td>\n",
       "      <td>8</td>\n",
       "      <td>18</td>\n",
       "      <td>230</td>\n",
       "      <td>5</td>\n",
       "      <td>33</td>\n",
       "    </tr>\n",
       "    <tr>\n",
       "      <th>4</th>\n",
       "      <td>2018-08-18</td>\n",
       "      <td>15</td>\n",
       "      <td>81</td>\n",
       "      <td>2018</td>\n",
       "      <td>8</td>\n",
       "      <td>18</td>\n",
       "      <td>230</td>\n",
       "      <td>5</td>\n",
       "      <td>33</td>\n",
       "    </tr>\n",
       "  </tbody>\n",
       "</table>\n",
       "</div>"
      ],
      "text/plain": [
       "        date  hour  demand  year  month  day  dayofyear  dayofweek  weekofyear\n",
       "0 2018-08-18     9      91  2018      8   18        230          5          33\n",
       "1 2018-08-18    10      21  2018      8   18        230          5          33\n",
       "2 2018-08-18    13      23  2018      8   18        230          5          33\n",
       "3 2018-08-18    14     104  2018      8   18        230          5          33\n",
       "4 2018-08-18    15      81  2018      8   18        230          5          33"
      ]
     },
     "execution_count": 6,
     "metadata": {},
     "output_type": "execute_result"
    }
   ],
   "source": [
    "df.head()"
   ]
  },
  {
   "cell_type": "code",
   "execution_count": 7,
   "metadata": {},
   "outputs": [
    {
     "data": {
      "text/html": [
       "<div>\n",
       "<style scoped>\n",
       "    .dataframe tbody tr th:only-of-type {\n",
       "        vertical-align: middle;\n",
       "    }\n",
       "\n",
       "    .dataframe tbody tr th {\n",
       "        vertical-align: top;\n",
       "    }\n",
       "\n",
       "    .dataframe thead th {\n",
       "        text-align: right;\n",
       "    }\n",
       "</style>\n",
       "<table border=\"1\" class=\"dataframe\">\n",
       "  <thead>\n",
       "    <tr style=\"text-align: right;\">\n",
       "      <th></th>\n",
       "      <th>hour</th>\n",
       "      <th>demand</th>\n",
       "      <th>year</th>\n",
       "      <th>month</th>\n",
       "      <th>day</th>\n",
       "      <th>dayofyear</th>\n",
       "      <th>dayofweek</th>\n",
       "      <th>weekofyear</th>\n",
       "    </tr>\n",
       "  </thead>\n",
       "  <tbody>\n",
       "    <tr>\n",
       "      <th>count</th>\n",
       "      <td>18247.000000</td>\n",
       "      <td>18247.000000</td>\n",
       "      <td>18247.000000</td>\n",
       "      <td>18247.000000</td>\n",
       "      <td>18247.000000</td>\n",
       "      <td>18247.000000</td>\n",
       "      <td>18247.000000</td>\n",
       "      <td>18247.000000</td>\n",
       "    </tr>\n",
       "    <tr>\n",
       "      <th>mean</th>\n",
       "      <td>12.614731</td>\n",
       "      <td>73.991451</td>\n",
       "      <td>2019.396997</td>\n",
       "      <td>6.470324</td>\n",
       "      <td>15.782430</td>\n",
       "      <td>181.799090</td>\n",
       "      <td>3.025867</td>\n",
       "      <td>26.543706</td>\n",
       "    </tr>\n",
       "    <tr>\n",
       "      <th>std</th>\n",
       "      <td>6.544963</td>\n",
       "      <td>41.678988</td>\n",
       "      <td>0.810979</td>\n",
       "      <td>3.618189</td>\n",
       "      <td>8.772904</td>\n",
       "      <td>110.599321</td>\n",
       "      <td>2.003638</td>\n",
       "      <td>15.828694</td>\n",
       "    </tr>\n",
       "    <tr>\n",
       "      <th>min</th>\n",
       "      <td>0.000000</td>\n",
       "      <td>1.000000</td>\n",
       "      <td>2018.000000</td>\n",
       "      <td>1.000000</td>\n",
       "      <td>1.000000</td>\n",
       "      <td>1.000000</td>\n",
       "      <td>0.000000</td>\n",
       "      <td>1.000000</td>\n",
       "    </tr>\n",
       "    <tr>\n",
       "      <th>25%</th>\n",
       "      <td>8.000000</td>\n",
       "      <td>43.000000</td>\n",
       "      <td>2019.000000</td>\n",
       "      <td>3.000000</td>\n",
       "      <td>8.000000</td>\n",
       "      <td>78.000000</td>\n",
       "      <td>1.000000</td>\n",
       "      <td>12.000000</td>\n",
       "    </tr>\n",
       "    <tr>\n",
       "      <th>50%</th>\n",
       "      <td>13.000000</td>\n",
       "      <td>71.000000</td>\n",
       "      <td>2019.000000</td>\n",
       "      <td>7.000000</td>\n",
       "      <td>16.000000</td>\n",
       "      <td>185.000000</td>\n",
       "      <td>3.000000</td>\n",
       "      <td>27.000000</td>\n",
       "    </tr>\n",
       "    <tr>\n",
       "      <th>75%</th>\n",
       "      <td>18.000000</td>\n",
       "      <td>98.000000</td>\n",
       "      <td>2020.000000</td>\n",
       "      <td>10.000000</td>\n",
       "      <td>23.000000</td>\n",
       "      <td>282.000000</td>\n",
       "      <td>5.000000</td>\n",
       "      <td>41.000000</td>\n",
       "    </tr>\n",
       "    <tr>\n",
       "      <th>max</th>\n",
       "      <td>23.000000</td>\n",
       "      <td>379.000000</td>\n",
       "      <td>2021.000000</td>\n",
       "      <td>12.000000</td>\n",
       "      <td>31.000000</td>\n",
       "      <td>366.000000</td>\n",
       "      <td>6.000000</td>\n",
       "      <td>53.000000</td>\n",
       "    </tr>\n",
       "  </tbody>\n",
       "</table>\n",
       "</div>"
      ],
      "text/plain": [
       "               hour        demand          year         month           day  \\\n",
       "count  18247.000000  18247.000000  18247.000000  18247.000000  18247.000000   \n",
       "mean      12.614731     73.991451   2019.396997      6.470324     15.782430   \n",
       "std        6.544963     41.678988      0.810979      3.618189      8.772904   \n",
       "min        0.000000      1.000000   2018.000000      1.000000      1.000000   \n",
       "25%        8.000000     43.000000   2019.000000      3.000000      8.000000   \n",
       "50%       13.000000     71.000000   2019.000000      7.000000     16.000000   \n",
       "75%       18.000000     98.000000   2020.000000     10.000000     23.000000   \n",
       "max       23.000000    379.000000   2021.000000     12.000000     31.000000   \n",
       "\n",
       "          dayofyear     dayofweek    weekofyear  \n",
       "count  18247.000000  18247.000000  18247.000000  \n",
       "mean     181.799090      3.025867     26.543706  \n",
       "std      110.599321      2.003638     15.828694  \n",
       "min        1.000000      0.000000      1.000000  \n",
       "25%       78.000000      1.000000     12.000000  \n",
       "50%      185.000000      3.000000     27.000000  \n",
       "75%      282.000000      5.000000     41.000000  \n",
       "max      366.000000      6.000000     53.000000  "
      ]
     },
     "execution_count": 7,
     "metadata": {},
     "output_type": "execute_result"
    }
   ],
   "source": [
    "# Descriptive Statistics\n",
    "\n",
    "df.describe()"
   ]
  },
  {
   "cell_type": "code",
   "execution_count": 8,
   "metadata": {},
   "outputs": [
    {
     "data": {
      "text/plain": [
       "date          0\n",
       "hour          0\n",
       "demand        0\n",
       "year          0\n",
       "month         0\n",
       "day           0\n",
       "dayofyear     0\n",
       "dayofweek     0\n",
       "weekofyear    0\n",
       "dtype: int64"
      ]
     },
     "execution_count": 8,
     "metadata": {},
     "output_type": "execute_result"
    }
   ],
   "source": [
    "# Checking for Null Values (Missing values cant found)\n",
    "\n",
    "df.isna().sum()"
   ]
  },
  {
   "cell_type": "code",
   "execution_count": 9,
   "metadata": {},
   "outputs": [
    {
     "data": {
      "text/plain": [
       "(18247, 9)"
      ]
     },
     "execution_count": 9,
     "metadata": {},
     "output_type": "execute_result"
    }
   ],
   "source": [
    "df.shape"
   ]
  },
  {
   "cell_type": "code",
   "execution_count": 10,
   "metadata": {},
   "outputs": [],
   "source": [
    "# Dropping Duplicates Row from Dataset but there is no duplicates rows\n",
    "\n",
    "df.drop_duplicates(subset = None,inplace = True)"
   ]
  },
  {
   "cell_type": "code",
   "execution_count": 11,
   "metadata": {},
   "outputs": [
    {
     "data": {
      "text/plain": [
       "(18247, 9)"
      ]
     },
     "execution_count": 11,
     "metadata": {},
     "output_type": "execute_result"
    }
   ],
   "source": [
    "df.shape"
   ]
  },
  {
   "cell_type": "code",
   "execution_count": 12,
   "metadata": {},
   "outputs": [
    {
     "data": {
      "text/plain": [
       "<seaborn.axisgrid.FacetGrid at 0x16171f13b20>"
      ]
     },
     "execution_count": 12,
     "metadata": {},
     "output_type": "execute_result"
    },
    {
     "data": {
      "text/plain": [
       "<Figure size 720x720 with 0 Axes>"
      ]
     },
     "metadata": {},
     "output_type": "display_data"
    },
    {
     "data": {
      "image/png": "[encoded data removed]",
      "text/plain": [
       "<Figure size 360x360 with 1 Axes>"
      ]
     },
     "metadata": {
      "needs_background": "light"
     },
     "output_type": "display_data"
    }
   ],
   "source": [
    "# Distributon plot for Demand Columns which is Right Skewed\n",
    "\n",
    "plt.figure(figsize=(10,10))\n",
    "sns.displot(df['demand'],kde=True,color='g')"
   ]
  },
  {
   "cell_type": "code",
   "execution_count": 13,
   "metadata": {},
   "outputs": [
    {
     "data": {
      "text/plain": [
       "<seaborn.axisgrid.FacetGrid at 0x16117301fa0>"
      ]
     },
     "execution_count": 13,
     "metadata": {},
     "output_type": "execute_result"
    },
    {
     "data": {
      "text/plain": [
       "<Figure size 720x720 with 0 Axes>"
      ]
     },
     "metadata": {},
     "output_type": "display_data"
    },
    {
     "data": {
      "image/png": "[encoded data removed]",
      "text/plain": [
       "<Figure size 360x360 with 1 Axes>"
      ]
     },
     "metadata": {
      "needs_background": "light"
     },
     "output_type": "display_data"
    }
   ],
   "source": [
    "# Distribution of Hour Column\n",
    "\n",
    "plt.figure(figsize=(10,10))\n",
    "sns.displot(df['hour'],kde=True,color='g')"
   ]
  },
  {
   "cell_type": "code",
   "execution_count": 14,
   "metadata": {},
   "outputs": [
    {
     "data": {
      "text/plain": [
       "<AxesSubplot:xlabel='hour', ylabel='demand'>"
      ]
     },
     "execution_count": 14,
     "metadata": {},
     "output_type": "execute_result"
    },
    {
     "data": {
      "image/png": "[encoded data removed]",
      "text/plain": [
       "<Figure size 720x432 with 1 Axes>"
      ]
     },
     "metadata": {
      "needs_background": "light"
     },
     "output_type": "display_data"
    }
   ],
   "source": [
    "# Barplot of Demand according to the hour Usually from Afternoon hours to Evening Hours there is High Demand of Car for Rentals \n",
    "# Every Year the Demand is Increasing as per the Barplot\n",
    "\n",
    "plt.figure(figsize=(10,6))\n",
    "sns.barplot(x='hour',y='demand',data=df)"
   ]
  },
  {
   "cell_type": "code",
   "execution_count": 15,
   "metadata": {},
   "outputs": [
    {
     "data": {
      "image/png": "[encoded data removed]",
      "text/plain": [
       "<Figure size 720x432 with 1 Axes>"
      ]
     },
     "metadata": {
      "needs_background": "light"
     },
     "output_type": "display_data"
    },
    {
     "data": {
      "image/png": "[encoded data removed]",
      "text/plain": [
       "<Figure size 720x432 with 1 Axes>"
      ]
     },
     "metadata": {
      "needs_background": "light"
     },
     "output_type": "display_data"
    },
    {
     "data": {
      "image/png": "[encoded data removed]",
      "text/plain": [
       "<Figure size 720x432 with 1 Axes>"
      ]
     },
     "metadata": {
      "needs_background": "light"
     },
     "output_type": "display_data"
    }
   ],
   "source": [
    "# Barplot for Demand according to the Day, Month, Year\n",
    "\n",
    "discrete = ['day','month','year']\n",
    "for i in discrete:\n",
    "    plt.figure(figsize=(10,6))\n",
    "    sns.barplot(x=i,y='demand',data=df,palette='magma')"
   ]
  },
  {
   "cell_type": "code",
   "execution_count": 16,
   "metadata": {},
   "outputs": [
    {
     "data": {
      "text/html": [
       "<div>\n",
       "<style scoped>\n",
       "    .dataframe tbody tr th:only-of-type {\n",
       "        vertical-align: middle;\n",
       "    }\n",
       "\n",
       "    .dataframe tbody tr th {\n",
       "        vertical-align: top;\n",
       "    }\n",
       "\n",
       "    .dataframe thead th {\n",
       "        text-align: right;\n",
       "    }\n",
       "</style>\n",
       "<table border=\"1\" class=\"dataframe\">\n",
       "  <thead>\n",
       "    <tr style=\"text-align: right;\">\n",
       "      <th></th>\n",
       "      <th>date</th>\n",
       "      <th>hour</th>\n",
       "      <th>demand</th>\n",
       "      <th>year</th>\n",
       "      <th>month</th>\n",
       "      <th>day</th>\n",
       "      <th>dayofyear</th>\n",
       "      <th>dayofweek</th>\n",
       "      <th>weekofyear</th>\n",
       "    </tr>\n",
       "  </thead>\n",
       "  <tbody>\n",
       "    <tr>\n",
       "      <th>0</th>\n",
       "      <td>2018-08-18</td>\n",
       "      <td>9</td>\n",
       "      <td>91</td>\n",
       "      <td>2018</td>\n",
       "      <td>8</td>\n",
       "      <td>18</td>\n",
       "      <td>230</td>\n",
       "      <td>5</td>\n",
       "      <td>33</td>\n",
       "    </tr>\n",
       "    <tr>\n",
       "      <th>1</th>\n",
       "      <td>2018-08-18</td>\n",
       "      <td>10</td>\n",
       "      <td>21</td>\n",
       "      <td>2018</td>\n",
       "      <td>8</td>\n",
       "      <td>18</td>\n",
       "      <td>230</td>\n",
       "      <td>5</td>\n",
       "      <td>33</td>\n",
       "    </tr>\n",
       "    <tr>\n",
       "      <th>2</th>\n",
       "      <td>2018-08-18</td>\n",
       "      <td>13</td>\n",
       "      <td>23</td>\n",
       "      <td>2018</td>\n",
       "      <td>8</td>\n",
       "      <td>18</td>\n",
       "      <td>230</td>\n",
       "      <td>5</td>\n",
       "      <td>33</td>\n",
       "    </tr>\n",
       "    <tr>\n",
       "      <th>3</th>\n",
       "      <td>2018-08-18</td>\n",
       "      <td>14</td>\n",
       "      <td>104</td>\n",
       "      <td>2018</td>\n",
       "      <td>8</td>\n",
       "      <td>18</td>\n",
       "      <td>230</td>\n",
       "      <td>5</td>\n",
       "      <td>33</td>\n",
       "    </tr>\n",
       "    <tr>\n",
       "      <th>4</th>\n",
       "      <td>2018-08-18</td>\n",
       "      <td>15</td>\n",
       "      <td>81</td>\n",
       "      <td>2018</td>\n",
       "      <td>8</td>\n",
       "      <td>18</td>\n",
       "      <td>230</td>\n",
       "      <td>5</td>\n",
       "      <td>33</td>\n",
       "    </tr>\n",
       "  </tbody>\n",
       "</table>\n",
       "</div>"
      ],
      "text/plain": [
       "        date  hour  demand  year  month  day  dayofyear  dayofweek  weekofyear\n",
       "0 2018-08-18     9      91  2018      8   18        230          5          33\n",
       "1 2018-08-18    10      21  2018      8   18        230          5          33\n",
       "2 2018-08-18    13      23  2018      8   18        230          5          33\n",
       "3 2018-08-18    14     104  2018      8   18        230          5          33\n",
       "4 2018-08-18    15      81  2018      8   18        230          5          33"
      ]
     },
     "execution_count": 16,
     "metadata": {},
     "output_type": "execute_result"
    }
   ],
   "source": [
    "df.head()"
   ]
  },
  {
   "cell_type": "markdown",
   "metadata": {},
   "source": [
    "# Feature Engineering\n"
   ]
  },
  {
   "cell_type": "code",
   "execution_count": 17,
   "metadata": {},
   "outputs": [],
   "source": [
    "# Dropping Date from df Dataframe for Feature Engineering\n",
    "df = df.drop('date',axis = 1)"
   ]
  },
  {
   "cell_type": "code",
   "execution_count": 18,
   "metadata": {},
   "outputs": [
    {
     "data": {
      "text/plain": [
       "<AxesSubplot:>"
      ]
     },
     "execution_count": 18,
     "metadata": {},
     "output_type": "execute_result"
    },
    {
     "data": {
      "image/png": "[encoded data removed]",
      "text/plain": [
       "<Figure size 1440x720 with 2 Axes>"
      ]
     },
     "metadata": {
      "needs_background": "light"
     },
     "output_type": "display_data"
    }
   ],
   "source": [
    "# Checking the Correlation Between the Independent Variables\n",
    "\n",
    "corr = df.corr()\n",
    "mask = np.array(corr)\n",
    "mask[np.tril_indices_from(mask)] = False\n",
    "fig,ax= plt.subplots()\n",
    "fig.set_size_inches(20,10)\n",
    "sns.heatmap(corr, mask=mask,vmax=.8, square=True,annot=True)"
   ]
  },
  {
   "cell_type": "code",
   "execution_count": 19,
   "metadata": {},
   "outputs": [],
   "source": [
    "# There Code deletes the Columns which are Highly Correlated with each other and which less contriute for the Model\n",
    "# The Columns dayofyear and weekofyear are highly Correlated so they are removed (0.96)\n",
    "\n",
    "columns = np.full((corr.shape[0],), True, dtype=bool)\n",
    "for i in range(corr.shape[0]):\n",
    "    for j in range(i+1, corr.shape[0]):\n",
    "        if corr.iloc[i,j] >= 0.9:\n",
    "            if columns[j]:\n",
    "                columns[j] = False\n",
    "selected_columns = df.columns[columns]\n",
    "df = df[selected_columns]"
   ]
  },
  {
   "cell_type": "code",
   "execution_count": 20,
   "metadata": {},
   "outputs": [
    {
     "data": {
      "text/html": [
       "<div>\n",
       "<style scoped>\n",
       "    .dataframe tbody tr th:only-of-type {\n",
       "        vertical-align: middle;\n",
       "    }\n",
       "\n",
       "    .dataframe tbody tr th {\n",
       "        vertical-align: top;\n",
       "    }\n",
       "\n",
       "    .dataframe thead th {\n",
       "        text-align: right;\n",
       "    }\n",
       "</style>\n",
       "<table border=\"1\" class=\"dataframe\">\n",
       "  <thead>\n",
       "    <tr style=\"text-align: right;\">\n",
       "      <th></th>\n",
       "      <th>hour</th>\n",
       "      <th>demand</th>\n",
       "      <th>year</th>\n",
       "      <th>month</th>\n",
       "      <th>day</th>\n",
       "      <th>dayofweek</th>\n",
       "    </tr>\n",
       "  </thead>\n",
       "  <tbody>\n",
       "    <tr>\n",
       "      <th>0</th>\n",
       "      <td>9</td>\n",
       "      <td>91</td>\n",
       "      <td>2018</td>\n",
       "      <td>8</td>\n",
       "      <td>18</td>\n",
       "      <td>5</td>\n",
       "    </tr>\n",
       "    <tr>\n",
       "      <th>1</th>\n",
       "      <td>10</td>\n",
       "      <td>21</td>\n",
       "      <td>2018</td>\n",
       "      <td>8</td>\n",
       "      <td>18</td>\n",
       "      <td>5</td>\n",
       "    </tr>\n",
       "    <tr>\n",
       "      <th>2</th>\n",
       "      <td>13</td>\n",
       "      <td>23</td>\n",
       "      <td>2018</td>\n",
       "      <td>8</td>\n",
       "      <td>18</td>\n",
       "      <td>5</td>\n",
       "    </tr>\n",
       "    <tr>\n",
       "      <th>3</th>\n",
       "      <td>14</td>\n",
       "      <td>104</td>\n",
       "      <td>2018</td>\n",
       "      <td>8</td>\n",
       "      <td>18</td>\n",
       "      <td>5</td>\n",
       "    </tr>\n",
       "    <tr>\n",
       "      <th>4</th>\n",
       "      <td>15</td>\n",
       "      <td>81</td>\n",
       "      <td>2018</td>\n",
       "      <td>8</td>\n",
       "      <td>18</td>\n",
       "      <td>5</td>\n",
       "    </tr>\n",
       "  </tbody>\n",
       "</table>\n",
       "</div>"
      ],
      "text/plain": [
       "   hour  demand  year  month  day  dayofweek\n",
       "0     9      91  2018      8   18          5\n",
       "1    10      21  2018      8   18          5\n",
       "2    13      23  2018      8   18          5\n",
       "3    14     104  2018      8   18          5\n",
       "4    15      81  2018      8   18          5"
      ]
     },
     "execution_count": 20,
     "metadata": {},
     "output_type": "execute_result"
    }
   ],
   "source": [
    "df.head()"
   ]
  },
  {
   "cell_type": "code",
   "execution_count": 21,
   "metadata": {},
   "outputs": [
    {
     "data": {
      "text/plain": [
       "16    892\n",
       "15    890\n",
       "17    889\n",
       "13    889\n",
       "12    888\n",
       "14    886\n",
       "10    884\n",
       "18    884\n",
       "11    883\n",
       "9     878\n",
       "19    878\n",
       "8     870\n",
       "20    864\n",
       "21    858\n",
       "22    837\n",
       "7     806\n",
       "23    776\n",
       "0     726\n",
       "6     679\n",
       "1     587\n",
       "2     553\n",
       "5     338\n",
       "4     325\n",
       "3     287\n",
       "Name: hour, dtype: int64"
      ]
     },
     "execution_count": 21,
     "metadata": {},
     "output_type": "execute_result"
    }
   ],
   "source": [
    "df['hour'].value_counts()"
   ]
  },
  {
   "cell_type": "markdown",
   "metadata": {},
   "source": [
    "# Modelling"
   ]
  },
  {
   "cell_type": "code",
   "execution_count": null,
   "metadata": {},
   "outputs": [],
   "source": []
  },
  {
   "cell_type": "code",
   "execution_count": 22,
   "metadata": {},
   "outputs": [],
   "source": [
    "# Separating the Columns into Target Variables and Feature Variable\n",
    "\n",
    "y = df['demand']\n",
    "X = df.drop(columns = ['demand'])"
   ]
  },
  {
   "cell_type": "code",
   "execution_count": 23,
   "metadata": {},
   "outputs": [
    {
     "name": "stdout",
     "output_type": "stream",
     "text": [
      "                            OLS Regression Results                            \n",
      "==============================================================================\n",
      "Dep. Variable:                 demand   R-squared:                       0.056\n",
      "Model:                            OLS   Adj. R-squared:                  0.056\n",
      "Method:                 Least Squares   F-statistic:                     217.9\n",
      "Date:                Sun, 24 Apr 2022   Prob (F-statistic):          1.44e-226\n",
      "Time:                        23:46:17   Log-Likelihood:                -93423.\n",
      "No. Observations:               18247   AIC:                         1.869e+05\n",
      "Df Residuals:                   18241   BIC:                         1.869e+05\n",
      "Df Model:                           5                                         \n",
      "Covariance Type:            nonrobust                                         \n",
      "==============================================================================\n",
      "                 coef    std err          t      P>|t|      [0.025      0.975]\n",
      "------------------------------------------------------------------------------\n",
      "const      -9206.1218    856.241    -10.752      0.000   -1.09e+04   -7527.809\n",
      "hour           1.0758      0.046     23.452      0.000       0.986       1.166\n",
      "year           4.5823      0.424     10.811      0.000       3.752       5.413\n",
      "month          0.9621      0.095     10.137      0.000       0.776       1.148\n",
      "day           -0.1581      0.034     -4.626      0.000      -0.225      -0.091\n",
      "dayofweek      3.0692      0.150     20.500      0.000       2.776       3.363\n",
      "==============================================================================\n",
      "Omnibus:                     3365.592   Durbin-Watson:                   1.159\n",
      "Prob(Omnibus):                  0.000   Jarque-Bera (JB):             9482.122\n",
      "Skew:                           0.982   Prob(JB):                         0.00\n",
      "Kurtosis:                       5.935   Cond. No.                     5.77e+06\n",
      "==============================================================================\n",
      "\n",
      "Notes:\n",
      "[1] Standard Errors assume that the covariance matrix of the errors is correctly specified.\n",
      "[2] The condition number is large, 5.77e+06. This might indicate that there are\n",
      "strong multicollinearity or other numerical problems.\n"
     ]
    }
   ],
   "source": [
    "# Here applying Statistical Analysis by using Generalised Linear Model Regression or Ordinary least-squares to Check the \n",
    "# relationship between the dependent and independent Variables\n",
    "# So the Columns which has Value Greater than P-Value than Significance Value (0.05) are not Signicant for the target or less \n",
    "# Contribute for Target Variable \n",
    "\n",
    "import pandas as pd\n",
    "import numpy as np\n",
    "from sklearn import datasets, linear_model\n",
    "from sklearn.linear_model import LinearRegression\n",
    "import statsmodels.api as ms\n",
    "from scipy import stats\n",
    "\n",
    "\n",
    "X2 = ms.add_constant(X)\n",
    "est = ms.OLS(y, X2)\n",
    "est2 = est.fit()\n",
    "print(est2.summary())"
   ]
  },
  {
   "cell_type": "code",
   "execution_count": 24,
   "metadata": {},
   "outputs": [],
   "source": [
    "# Import Libraries for Modeling Part\n",
    "\n",
    "from sklearn.metrics import  mean_squared_error,mean_absolute_error, r2_score\n",
    "from sklearn.model_selection import train_test_split\n",
    "import lightgbm as lgb\n"
   ]
  },
  {
   "cell_type": "code",
   "execution_count": 25,
   "metadata": {},
   "outputs": [],
   "source": [
    "# Splitting data Into Training and Testing Set\n",
    "\n",
    "X_train, X_test, y_train, y_test = train_test_split(X, y, test_size=0.01, random_state=41)"
   ]
  },
  {
   "cell_type": "code",
   "execution_count": 26,
   "metadata": {},
   "outputs": [],
   "source": [
    "# This below two Function Calculate RMSE, MSE, MAE, R2 Score for the Model\n",
    "\n",
    "\n",
    "def rmse_cv(model):\n",
    "    rmse = np.sqrt(-cross_val_score(model, X, y, scoring=\"neg_mean_squared_error\", cv=5)).mean()\n",
    "    return rmse\n",
    "    \n",
    "def evaluation(y, predictions):\n",
    "    mae = mean_absolute_error(y, predictions)\n",
    "    mse = mean_squared_error(y, predictions)\n",
    "    rmse = np.sqrt(mean_squared_error(y, predictions))\n",
    "    r_squared = r2_score(y, predictions)\n",
    "    return mae, mse, rmse, r_squared"
   ]
  },
  {
   "cell_type": "code",
   "execution_count": 27,
   "metadata": {},
   "outputs": [
    {
     "name": "stderr",
     "output_type": "stream",
     "text": [
      "C:\\Users\\shiva\\anaconda3\\lib\\site-packages\\lightgbm\\sklearn.py:726: UserWarning: 'early_stopping_rounds' argument is deprecated and will be removed in a future release of LightGBM. Pass 'early_stopping()' callback via 'callbacks' argument instead.\n",
      "  _log_warning(\"'early_stopping_rounds' argument is deprecated and will be removed in a future release of LightGBM. \"\n"
     ]
    },
    {
     "name": "stdout",
     "output_type": "stream",
     "text": [
      "[LightGBM] [Warning] min_sum_hessian_in_leaf is set=20, min_child_weight=0.001 will be ignored. Current value: min_sum_hessian_in_leaf=20\n",
      "[1]\tvalid_0's rmse: 39.7011\tvalid_0's l2: 1576.17\n",
      "[2]\tvalid_0's rmse: 38.4293\tvalid_0's l2: 1476.81\n",
      "[3]\tvalid_0's rmse: 37.4123\tvalid_0's l2: 1399.68\n",
      "[4]\tvalid_0's rmse: 36.5771\tvalid_0's l2: 1337.88\n",
      "[5]\tvalid_0's rmse: 35.6774\tvalid_0's l2: 1272.87\n",
      "[6]\tvalid_0's rmse: 35.1078\tvalid_0's l2: 1232.55\n",
      "[7]\tvalid_0's rmse: 34.5828\tvalid_0's l2: 1195.97\n",
      "[8]\tvalid_0's rmse: 34.0662\tvalid_0's l2: 1160.51\n",
      "[9]\tvalid_0's rmse: 33.6527\tvalid_0's l2: 1132.51\n",
      "[10]\tvalid_0's rmse: 33.316\tvalid_0's l2: 1109.96\n",
      "[11]\tvalid_0's rmse: 33.143\tvalid_0's l2: 1098.46\n",
      "[12]\tvalid_0's rmse: 32.9068\tvalid_0's l2: 1082.86\n",
      "[13]\tvalid_0's rmse: 32.6757\tvalid_0's l2: 1067.7\n",
      "[14]\tvalid_0's rmse: 32.5697\tvalid_0's l2: 1060.78\n",
      "[15]\tvalid_0's rmse: 32.4448\tvalid_0's l2: 1052.66\n",
      "[16]\tvalid_0's rmse: 32.3074\tvalid_0's l2: 1043.77\n",
      "[17]\tvalid_0's rmse: 32.1948\tvalid_0's l2: 1036.5\n",
      "[18]\tvalid_0's rmse: 32.0696\tvalid_0's l2: 1028.46\n",
      "[19]\tvalid_0's rmse: 32.0382\tvalid_0's l2: 1026.45\n",
      "[20]\tvalid_0's rmse: 31.9859\tvalid_0's l2: 1023.1\n",
      "[21]\tvalid_0's rmse: 31.9072\tvalid_0's l2: 1018.07\n",
      "[22]\tvalid_0's rmse: 31.9042\tvalid_0's l2: 1017.88\n",
      "[23]\tvalid_0's rmse: 31.8535\tvalid_0's l2: 1014.65\n",
      "[24]\tvalid_0's rmse: 31.8645\tvalid_0's l2: 1015.35\n",
      "[25]\tvalid_0's rmse: 31.824\tvalid_0's l2: 1012.77\n",
      "[26]\tvalid_0's rmse: 31.7575\tvalid_0's l2: 1008.54\n",
      "[27]\tvalid_0's rmse: 31.7255\tvalid_0's l2: 1006.51\n",
      "[28]\tvalid_0's rmse: 31.6436\tvalid_0's l2: 1001.32\n",
      "[29]\tvalid_0's rmse: 31.6659\tvalid_0's l2: 1002.73\n",
      "[30]\tvalid_0's rmse: 31.6173\tvalid_0's l2: 999.656\n",
      "[31]\tvalid_0's rmse: 31.5784\tvalid_0's l2: 997.193\n",
      "[32]\tvalid_0's rmse: 31.604\tvalid_0's l2: 998.81\n",
      "[33]\tvalid_0's rmse: 31.4832\tvalid_0's l2: 991.192\n",
      "[34]\tvalid_0's rmse: 31.4219\tvalid_0's l2: 987.339\n",
      "[35]\tvalid_0's rmse: 31.4516\tvalid_0's l2: 989.205\n",
      "[36]\tvalid_0's rmse: 31.3896\tvalid_0's l2: 985.307\n",
      "[37]\tvalid_0's rmse: 31.3575\tvalid_0's l2: 983.294\n",
      "[38]\tvalid_0's rmse: 31.3309\tvalid_0's l2: 981.628\n",
      "[39]\tvalid_0's rmse: 31.3523\tvalid_0's l2: 982.964\n",
      "[40]\tvalid_0's rmse: 31.3279\tvalid_0's l2: 981.438\n",
      "[41]\tvalid_0's rmse: 31.3301\tvalid_0's l2: 981.577\n",
      "[42]\tvalid_0's rmse: 31.3387\tvalid_0's l2: 982.113\n",
      "[43]\tvalid_0's rmse: 31.3529\tvalid_0's l2: 983.003\n",
      "[44]\tvalid_0's rmse: 31.4047\tvalid_0's l2: 986.256\n",
      "[45]\tvalid_0's rmse: 31.3672\tvalid_0's l2: 983.901\n",
      "[46]\tvalid_0's rmse: 31.3776\tvalid_0's l2: 984.553\n",
      "[47]\tvalid_0's rmse: 31.3989\tvalid_0's l2: 985.891\n",
      "[48]\tvalid_0's rmse: 31.4051\tvalid_0's l2: 986.283\n",
      "[49]\tvalid_0's rmse: 31.4104\tvalid_0's l2: 986.616\n",
      "[50]\tvalid_0's rmse: 31.4234\tvalid_0's l2: 987.431\n",
      "[51]\tvalid_0's rmse: 31.4351\tvalid_0's l2: 988.167\n",
      "[52]\tvalid_0's rmse: 31.4192\tvalid_0's l2: 987.165\n",
      "[53]\tvalid_0's rmse: 31.4404\tvalid_0's l2: 988.499\n",
      "[54]\tvalid_0's rmse: 31.441\tvalid_0's l2: 988.539\n",
      "[55]\tvalid_0's rmse: 31.4913\tvalid_0's l2: 991.704\n",
      "[56]\tvalid_0's rmse: 31.4621\tvalid_0's l2: 989.865\n",
      "[57]\tvalid_0's rmse: 31.4294\tvalid_0's l2: 987.808\n",
      "[58]\tvalid_0's rmse: 31.4171\tvalid_0's l2: 987.031\n",
      "[59]\tvalid_0's rmse: 31.4112\tvalid_0's l2: 986.664\n",
      "[60]\tvalid_0's rmse: 31.4267\tvalid_0's l2: 987.638\n",
      "[61]\tvalid_0's rmse: 31.3855\tvalid_0's l2: 985.05\n",
      "[62]\tvalid_0's rmse: 31.4017\tvalid_0's l2: 986.065\n",
      "[63]\tvalid_0's rmse: 31.3938\tvalid_0's l2: 985.571\n",
      "[64]\tvalid_0's rmse: 31.3632\tvalid_0's l2: 983.651\n",
      "[65]\tvalid_0's rmse: 31.3383\tvalid_0's l2: 982.092\n",
      "[66]\tvalid_0's rmse: 31.377\tvalid_0's l2: 984.515\n",
      "[67]\tvalid_0's rmse: 31.4078\tvalid_0's l2: 986.451\n",
      "[68]\tvalid_0's rmse: 31.4253\tvalid_0's l2: 987.55\n",
      "[69]\tvalid_0's rmse: 31.4352\tvalid_0's l2: 988.17\n",
      "[70]\tvalid_0's rmse: 31.403\tvalid_0's l2: 986.148\n",
      "[71]\tvalid_0's rmse: 31.4043\tvalid_0's l2: 986.233\n",
      "[72]\tvalid_0's rmse: 31.3878\tvalid_0's l2: 985.195\n",
      "[73]\tvalid_0's rmse: 31.3955\tvalid_0's l2: 985.678\n",
      "[74]\tvalid_0's rmse: 31.399\tvalid_0's l2: 985.895\n",
      "[75]\tvalid_0's rmse: 31.418\tvalid_0's l2: 987.09\n",
      "[76]\tvalid_0's rmse: 31.4237\tvalid_0's l2: 987.446\n",
      "[77]\tvalid_0's rmse: 31.4554\tvalid_0's l2: 989.442\n",
      "[78]\tvalid_0's rmse: 31.4326\tvalid_0's l2: 988.008\n",
      "[79]\tvalid_0's rmse: 31.4379\tvalid_0's l2: 988.343\n",
      "[80]\tvalid_0's rmse: 31.4378\tvalid_0's l2: 988.336\n",
      "[81]\tvalid_0's rmse: 31.448\tvalid_0's l2: 988.976\n",
      "[82]\tvalid_0's rmse: 31.4406\tvalid_0's l2: 988.51\n",
      "[83]\tvalid_0's rmse: 31.3827\tvalid_0's l2: 984.874\n",
      "[84]\tvalid_0's rmse: 31.4045\tvalid_0's l2: 986.241\n",
      "[85]\tvalid_0's rmse: 31.3912\tvalid_0's l2: 985.409\n",
      "[86]\tvalid_0's rmse: 31.4129\tvalid_0's l2: 986.77\n",
      "[87]\tvalid_0's rmse: 31.4307\tvalid_0's l2: 987.891\n",
      "[88]\tvalid_0's rmse: 31.4453\tvalid_0's l2: 988.805\n",
      "[89]\tvalid_0's rmse: 31.4092\tvalid_0's l2: 986.537\n",
      "[90]\tvalid_0's rmse: 31.4131\tvalid_0's l2: 986.782\n",
      "[91]\tvalid_0's rmse: 31.3985\tvalid_0's l2: 985.865\n",
      "[92]\tvalid_0's rmse: 31.4335\tvalid_0's l2: 988.064\n",
      "[93]\tvalid_0's rmse: 31.4023\tvalid_0's l2: 986.102\n",
      "[94]\tvalid_0's rmse: 31.4165\tvalid_0's l2: 986.997\n",
      "[95]\tvalid_0's rmse: 31.4095\tvalid_0's l2: 986.559\n",
      "[96]\tvalid_0's rmse: 31.3637\tvalid_0's l2: 983.683\n",
      "[97]\tvalid_0's rmse: 31.3746\tvalid_0's l2: 984.364\n",
      "[98]\tvalid_0's rmse: 31.3762\tvalid_0's l2: 984.463\n",
      "[99]\tvalid_0's rmse: 31.4187\tvalid_0's l2: 987.135\n",
      "[100]\tvalid_0's rmse: 31.4149\tvalid_0's l2: 986.898\n",
      "MAE: 26.32321264909516\n",
      "MSE: 981.437526912416\n",
      "RMSE: 31.32790332774308\n",
      "R2 Score: 0.42547135340501896\n",
      "------------------------------\n"
     ]
    }
   ],
   "source": [
    "# Here LightGBM is Used Because this model gives the Lowest RMSE Value among all other Regression Model for this Demand and \n",
    "# Supply Problem. This below Model is Tuned As it best to give Lowest RMSE value and high R2 Score and to give best prediction\n",
    "# for testting Dataset\n",
    "\n",
    "\n",
    "import lightgbm as lgb\n",
    "gbm = lgb.LGBMRegressor(objective='regression', num_leaves=89,learning_rate=0.1,max_bin=200,min_sum_hessian_in_leaf = 20,\n",
    "                        max_depth= 18,verbose=-1)\n",
    "\n",
    "gbm.fit(X_train, y_train,eval_set=[(X_test, y_test)],\n",
    "    eval_metric='l2_root',\n",
    "    early_stopping_rounds=100)\n",
    "\n",
    "y_pred = gbm.predict(X_test, num_iteration=gbm.best_iteration_)\n",
    "\n",
    "mae, mse, rmse, r_squared = evaluation(y_test, y_pred)\n",
    "print(\"MAE:\", mae)\n",
    "print(\"MSE:\", mse)\n",
    "print(\"RMSE:\", rmse)\n",
    "print(\"R2 Score:\", r_squared)\n",
    "print(\"-\"*30)"
   ]
  },
  {
   "cell_type": "code",
   "execution_count": null,
   "metadata": {},
   "outputs": [],
   "source": []
  },
  {
   "cell_type": "markdown",
   "metadata": {},
   "source": [
    "# Prediction"
   ]
  },
  {
   "cell_type": "code",
   "execution_count": 28,
   "metadata": {},
   "outputs": [
    {
     "data": {
      "text/html": [
       "<div>\n",
       "<style scoped>\n",
       "    .dataframe tbody tr th:only-of-type {\n",
       "        vertical-align: middle;\n",
       "    }\n",
       "\n",
       "    .dataframe tbody tr th {\n",
       "        vertical-align: top;\n",
       "    }\n",
       "\n",
       "    .dataframe thead th {\n",
       "        text-align: right;\n",
       "    }\n",
       "</style>\n",
       "<table border=\"1\" class=\"dataframe\">\n",
       "  <thead>\n",
       "    <tr style=\"text-align: right;\">\n",
       "      <th></th>\n",
       "      <th>date</th>\n",
       "      <th>hour</th>\n",
       "    </tr>\n",
       "  </thead>\n",
       "  <tbody>\n",
       "    <tr>\n",
       "      <th>0</th>\n",
       "      <td>2021-03-01</td>\n",
       "      <td>0</td>\n",
       "    </tr>\n",
       "    <tr>\n",
       "      <th>1</th>\n",
       "      <td>2021-03-01</td>\n",
       "      <td>1</td>\n",
       "    </tr>\n",
       "    <tr>\n",
       "      <th>2</th>\n",
       "      <td>2021-03-01</td>\n",
       "      <td>2</td>\n",
       "    </tr>\n",
       "    <tr>\n",
       "      <th>3</th>\n",
       "      <td>2021-03-01</td>\n",
       "      <td>3</td>\n",
       "    </tr>\n",
       "    <tr>\n",
       "      <th>4</th>\n",
       "      <td>2021-03-01</td>\n",
       "      <td>5</td>\n",
       "    </tr>\n",
       "  </tbody>\n",
       "</table>\n",
       "</div>"
      ],
      "text/plain": [
       "         date  hour\n",
       "0  2021-03-01     0\n",
       "1  2021-03-01     1\n",
       "2  2021-03-01     2\n",
       "3  2021-03-01     3\n",
       "4  2021-03-01     5"
      ]
     },
     "execution_count": 28,
     "metadata": {},
     "output_type": "execute_result"
    }
   ],
   "source": [
    "# Import test Dataset \n",
    "\n",
    "test_df = pd.read_csv(\"test_6QvDdzb.csv\")\n",
    "test = test_df\n",
    "test_df.head()"
   ]
  },
  {
   "cell_type": "code",
   "execution_count": 29,
   "metadata": {},
   "outputs": [
    {
     "data": {
      "text/html": [
       "<div>\n",
       "<style scoped>\n",
       "    .dataframe tbody tr th:only-of-type {\n",
       "        vertical-align: middle;\n",
       "    }\n",
       "\n",
       "    .dataframe tbody tr th {\n",
       "        vertical-align: top;\n",
       "    }\n",
       "\n",
       "    .dataframe thead th {\n",
       "        text-align: right;\n",
       "    }\n",
       "</style>\n",
       "<table border=\"1\" class=\"dataframe\">\n",
       "  <thead>\n",
       "    <tr style=\"text-align: right;\">\n",
       "      <th></th>\n",
       "      <th>date</th>\n",
       "      <th>hour</th>\n",
       "      <th>year</th>\n",
       "      <th>month</th>\n",
       "      <th>day</th>\n",
       "      <th>dayofweek</th>\n",
       "    </tr>\n",
       "  </thead>\n",
       "  <tbody>\n",
       "    <tr>\n",
       "      <th>0</th>\n",
       "      <td>2021-03-01</td>\n",
       "      <td>0</td>\n",
       "      <td>2021</td>\n",
       "      <td>3</td>\n",
       "      <td>1</td>\n",
       "      <td>0</td>\n",
       "    </tr>\n",
       "    <tr>\n",
       "      <th>1</th>\n",
       "      <td>2021-03-01</td>\n",
       "      <td>1</td>\n",
       "      <td>2021</td>\n",
       "      <td>3</td>\n",
       "      <td>1</td>\n",
       "      <td>0</td>\n",
       "    </tr>\n",
       "    <tr>\n",
       "      <th>2</th>\n",
       "      <td>2021-03-01</td>\n",
       "      <td>2</td>\n",
       "      <td>2021</td>\n",
       "      <td>3</td>\n",
       "      <td>1</td>\n",
       "      <td>0</td>\n",
       "    </tr>\n",
       "    <tr>\n",
       "      <th>3</th>\n",
       "      <td>2021-03-01</td>\n",
       "      <td>3</td>\n",
       "      <td>2021</td>\n",
       "      <td>3</td>\n",
       "      <td>1</td>\n",
       "      <td>0</td>\n",
       "    </tr>\n",
       "    <tr>\n",
       "      <th>4</th>\n",
       "      <td>2021-03-01</td>\n",
       "      <td>5</td>\n",
       "      <td>2021</td>\n",
       "      <td>3</td>\n",
       "      <td>1</td>\n",
       "      <td>0</td>\n",
       "    </tr>\n",
       "  </tbody>\n",
       "</table>\n",
       "</div>"
      ],
      "text/plain": [
       "        date  hour  year  month  day  dayofweek\n",
       "0 2021-03-01     0  2021      3    1          0\n",
       "1 2021-03-01     1  2021      3    1          0\n",
       "2 2021-03-01     2  2021      3    1          0\n",
       "3 2021-03-01     3  2021      3    1          0\n",
       "4 2021-03-01     5  2021      3    1          0"
      ]
     },
     "execution_count": 29,
     "metadata": {},
     "output_type": "execute_result"
    }
   ],
   "source": [
    "# Preparing Test Dataset for Predictions\n",
    "\n",
    "test['date'] = pd.to_datetime(test_df['date'])\n",
    "test['year'] = test.date.dt.year\n",
    "test['month'] = test.date.dt.month\n",
    "test['day'] = test.date.dt.day\n",
    "#test['dayofyear'] = test.date.dt.dayofyear\n",
    "test['dayofweek'] = test.date.dt.dayofweek\n",
    "#test['weekofyear'] = test.date.dt.weekofyear\n",
    "test.head()"
   ]
  },
  {
   "cell_type": "code",
   "execution_count": 30,
   "metadata": {},
   "outputs": [
    {
     "data": {
      "text/html": [
       "<div>\n",
       "<style scoped>\n",
       "    .dataframe tbody tr th:only-of-type {\n",
       "        vertical-align: middle;\n",
       "    }\n",
       "\n",
       "    .dataframe tbody tr th {\n",
       "        vertical-align: top;\n",
       "    }\n",
       "\n",
       "    .dataframe thead th {\n",
       "        text-align: right;\n",
       "    }\n",
       "</style>\n",
       "<table border=\"1\" class=\"dataframe\">\n",
       "  <thead>\n",
       "    <tr style=\"text-align: right;\">\n",
       "      <th></th>\n",
       "      <th>hour</th>\n",
       "      <th>year</th>\n",
       "      <th>month</th>\n",
       "      <th>day</th>\n",
       "      <th>dayofweek</th>\n",
       "    </tr>\n",
       "  </thead>\n",
       "  <tbody>\n",
       "    <tr>\n",
       "      <th>0</th>\n",
       "      <td>0</td>\n",
       "      <td>2021</td>\n",
       "      <td>3</td>\n",
       "      <td>1</td>\n",
       "      <td>0</td>\n",
       "    </tr>\n",
       "    <tr>\n",
       "      <th>1</th>\n",
       "      <td>1</td>\n",
       "      <td>2021</td>\n",
       "      <td>3</td>\n",
       "      <td>1</td>\n",
       "      <td>0</td>\n",
       "    </tr>\n",
       "    <tr>\n",
       "      <th>2</th>\n",
       "      <td>2</td>\n",
       "      <td>2021</td>\n",
       "      <td>3</td>\n",
       "      <td>1</td>\n",
       "      <td>0</td>\n",
       "    </tr>\n",
       "    <tr>\n",
       "      <th>3</th>\n",
       "      <td>3</td>\n",
       "      <td>2021</td>\n",
       "      <td>3</td>\n",
       "      <td>1</td>\n",
       "      <td>0</td>\n",
       "    </tr>\n",
       "    <tr>\n",
       "      <th>4</th>\n",
       "      <td>5</td>\n",
       "      <td>2021</td>\n",
       "      <td>3</td>\n",
       "      <td>1</td>\n",
       "      <td>0</td>\n",
       "    </tr>\n",
       "    <tr>\n",
       "      <th>5</th>\n",
       "      <td>6</td>\n",
       "      <td>2021</td>\n",
       "      <td>3</td>\n",
       "      <td>1</td>\n",
       "      <td>0</td>\n",
       "    </tr>\n",
       "    <tr>\n",
       "      <th>6</th>\n",
       "      <td>7</td>\n",
       "      <td>2021</td>\n",
       "      <td>3</td>\n",
       "      <td>1</td>\n",
       "      <td>0</td>\n",
       "    </tr>\n",
       "    <tr>\n",
       "      <th>7</th>\n",
       "      <td>8</td>\n",
       "      <td>2021</td>\n",
       "      <td>3</td>\n",
       "      <td>1</td>\n",
       "      <td>0</td>\n",
       "    </tr>\n",
       "    <tr>\n",
       "      <th>8</th>\n",
       "      <td>9</td>\n",
       "      <td>2021</td>\n",
       "      <td>3</td>\n",
       "      <td>1</td>\n",
       "      <td>0</td>\n",
       "    </tr>\n",
       "    <tr>\n",
       "      <th>9</th>\n",
       "      <td>10</td>\n",
       "      <td>2021</td>\n",
       "      <td>3</td>\n",
       "      <td>1</td>\n",
       "      <td>0</td>\n",
       "    </tr>\n",
       "  </tbody>\n",
       "</table>\n",
       "</div>"
      ],
      "text/plain": [
       "   hour  year  month  day  dayofweek\n",
       "0     0  2021      3    1          0\n",
       "1     1  2021      3    1          0\n",
       "2     2  2021      3    1          0\n",
       "3     3  2021      3    1          0\n",
       "4     5  2021      3    1          0\n",
       "5     6  2021      3    1          0\n",
       "6     7  2021      3    1          0\n",
       "7     8  2021      3    1          0\n",
       "8     9  2021      3    1          0\n",
       "9    10  2021      3    1          0"
      ]
     },
     "execution_count": 30,
     "metadata": {},
     "output_type": "execute_result"
    }
   ],
   "source": [
    "# Dropping Date because it is not required\n",
    "\n",
    "test = test.drop(columns = ['date'])\n",
    "test.head(10)"
   ]
  },
  {
   "cell_type": "code",
   "execution_count": 31,
   "metadata": {},
   "outputs": [
    {
     "name": "stdout",
     "output_type": "stream",
     "text": [
      "Predicted labels:  [57.38297187 55.3173053  55.3173053  ... 65.98564322 61.00581766\n",
      " 57.63862094]\n",
      "Actual labels:     9158      91\n",
      "12215    131\n",
      "16587     72\n",
      "5089      28\n",
      "1370      58\n",
      "        ... \n",
      "14050     42\n",
      "10891     76\n",
      "15984     53\n",
      "398       87\n",
      "15772    119\n",
      "Name: demand, Length: 183, dtype: int64\n"
     ]
    }
   ],
   "source": [
    "# Predicting Using the trained Model\n",
    "\n",
    "predict = gbm.predict(test)\n",
    "print('Predicted labels: ', predict)\n",
    "print('Actual labels:    ' ,y_test)"
   ]
  },
  {
   "cell_type": "code",
   "execution_count": 32,
   "metadata": {},
   "outputs": [],
   "source": [
    "# Round the Predictions because Demand is Integer\n",
    "\n",
    "rounded = [round(x) for x in predict]\n",
    "predict = rounded"
   ]
  },
  {
   "cell_type": "code",
   "execution_count": 33,
   "metadata": {},
   "outputs": [
    {
     "data": {
      "text/html": [
       "<div>\n",
       "<style scoped>\n",
       "    .dataframe tbody tr th:only-of-type {\n",
       "        vertical-align: middle;\n",
       "    }\n",
       "\n",
       "    .dataframe tbody tr th {\n",
       "        vertical-align: top;\n",
       "    }\n",
       "\n",
       "    .dataframe thead th {\n",
       "        text-align: right;\n",
       "    }\n",
       "</style>\n",
       "<table border=\"1\" class=\"dataframe\">\n",
       "  <thead>\n",
       "    <tr style=\"text-align: right;\">\n",
       "      <th></th>\n",
       "      <th>date</th>\n",
       "      <th>hour</th>\n",
       "      <th>demand</th>\n",
       "    </tr>\n",
       "  </thead>\n",
       "  <tbody>\n",
       "    <tr>\n",
       "      <th>0</th>\n",
       "      <td>2021-03-01</td>\n",
       "      <td>0</td>\n",
       "      <td>57</td>\n",
       "    </tr>\n",
       "    <tr>\n",
       "      <th>1</th>\n",
       "      <td>2021-03-01</td>\n",
       "      <td>1</td>\n",
       "      <td>55</td>\n",
       "    </tr>\n",
       "    <tr>\n",
       "      <th>2</th>\n",
       "      <td>2021-03-01</td>\n",
       "      <td>2</td>\n",
       "      <td>55</td>\n",
       "    </tr>\n",
       "    <tr>\n",
       "      <th>3</th>\n",
       "      <td>2021-03-01</td>\n",
       "      <td>3</td>\n",
       "      <td>55</td>\n",
       "    </tr>\n",
       "    <tr>\n",
       "      <th>4</th>\n",
       "      <td>2021-03-01</td>\n",
       "      <td>5</td>\n",
       "      <td>54</td>\n",
       "    </tr>\n",
       "  </tbody>\n",
       "</table>\n",
       "</div>"
      ],
      "text/plain": [
       "        date  hour  demand\n",
       "0 2021-03-01     0      57\n",
       "1 2021-03-01     1      55\n",
       "2 2021-03-01     2      55\n",
       "3 2021-03-01     3      55\n",
       "4 2021-03-01     5      54"
      ]
     },
     "execution_count": 33,
     "metadata": {},
     "output_type": "execute_result"
    }
   ],
   "source": [
    "# Storing to Submission DataFrame\n",
    "\n",
    "date = test_df['date']\n",
    "submission = pd.DataFrame({\n",
    "                  \"date\": date,\n",
    "                  \"hour\": test_df['hour'],\n",
    "                  \"demand\": predict})\n",
    "submission.head()"
   ]
  },
  {
   "cell_type": "code",
   "execution_count": 34,
   "metadata": {},
   "outputs": [],
   "source": [
    "# Storing into Prediction into CSV file\n",
    "\n",
    "submission.to_csv('Submission_Final.csv', index=False)"
   ]
  },
  {
   "cell_type": "code",
   "execution_count": null,
   "metadata": {},
   "outputs": [],
   "source": []
  },
  {
   "cell_type": "code",
   "execution_count": null,
   "metadata": {},
   "outputs": [],
   "source": []
  }
 ],
 "metadata": {
  "kernelspec": {
   "display_name": "Python 3",
   "language": "python",
   "name": "python3"
  },
  "language_info": {
   "codemirror_mode": {
    "name": "ipython",
    "version": 3
   },
   "file_extension": ".py",
   "mimetype": "text/x-python",
   "name": "python",
   "nbconvert_exporter": "python",
   "pygments_lexer": "ipython3",
   "version": "3.8.5"
  }
 },
 "nbformat": 4,
 "nbformat_minor": 5
}
