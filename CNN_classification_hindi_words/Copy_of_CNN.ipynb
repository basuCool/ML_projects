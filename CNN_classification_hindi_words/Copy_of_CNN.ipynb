{
  "nbformat": 4,
  "nbformat_minor": 0,
  "metadata": {
    "colab": {
      "name": "Copy of CNN.ipynb",
      "provenance": []
    },
    "kernelspec": {
      "name": "python3",
      "display_name": "Python 3"
    },
    "language_info": {
      "name": "python"
    }
  },
  "cells": [
    {
      "cell_type": "markdown",
      "metadata": {
        "id": "EQPQMdK3ewia"
      },
      "source": [
        ""
      ]
    },
    {
      "cell_type": "markdown",
      "metadata": {
        "id": "H-i5ukGJfCqb"
      },
      "source": [
        "CNN"
      ]
    },
    {
      "cell_type": "code",
      "metadata": {
        "id": "2z3zZQvYfFSG"
      },
      "source": [
        "#Import the libraries\n",
        "import tensorflow as tf\n",
        "from keras.preprocessing.image import ImageDataGenerator\n"
      ],
      "execution_count": null,
      "outputs": []
    },
    {
      "cell_type": "code",
      "metadata": {
        "colab": {
          "base_uri": "https://localhost:8080/",
          "height": 35
        },
        "id": "5BHiM4vbffVJ",
        "outputId": "d09445c6-6fd4-46d6-9c62-1af8a41d23de"
      },
      "source": [
        "tf.__version__"
      ],
      "execution_count": null,
      "outputs": [
        {
          "output_type": "execute_result",
          "data": {
            "application/vnd.google.colaboratory.intrinsic+json": {
              "type": "string"
            },
            "text/plain": [
              "'2.6.0'"
            ]
          },
          "metadata": {},
          "execution_count": 3
        }
      ]
    },
    {
      "cell_type": "markdown",
      "metadata": {
        "id": "NzKOq08wfl6a"
      },
      "source": [
        "Image Data preprocessing"
      ]
    },
    {
      "cell_type": "code",
      "metadata": {
        "id": "UKbJOz4dfoud"
      },
      "source": [
        "# Preprocessing the Training set\n",
        "train_datagen = ImageDataGenerator(\n",
        "    rescale = 1./255,\n",
        "    shear_range = 0.2,\n",
        "    zoom_range = 0.2,\n",
        "    horizontal_flip=True)\n",
        "training_set = train_datagen.flow_from_directory(\n",
        "        'data/training',\n",
        "        target_size=(50, 50),\n",
        "        batch_size=32,\n",
        "        class_mode='binary')"
      ],
      "execution_count": null,
      "outputs": []
    },
    {
      "cell_type": "code",
      "metadata": {
        "id": "c8BFT_l5fDnd"
      },
      "source": [
        "# Preprocessing test data\n",
        "test_datagen = ImageDataGenerator(rescale=1./255)\n",
        "test_set = test_datagen.flow_from_directory(\n",
        "        'data/test',\n",
        "        target_size=(50, 50),\n",
        "        batch_size=32,\n",
        "        class_mode='binary')"
      ],
      "execution_count": null,
      "outputs": []
    },
    {
      "cell_type": "markdown",
      "metadata": {
        "id": "DtI1aeUZgQ8l"
      },
      "source": [
        "Building the CNN"
      ]
    },
    {
      "cell_type": "code",
      "metadata": {
        "id": "E2lEFtERgUHo"
      },
      "source": [
        "# Initializing the CNN\n",
        "cnn = tf.keras.models.Sequential()"
      ],
      "execution_count": null,
      "outputs": []
    },
    {
      "cell_type": "code",
      "metadata": {
        "id": "V8hwUqYEgm4g"
      },
      "source": [
        "# Convolution\n",
        "cnn.add(tf.keras.layers.Conv2D(filters=32, kernel_size = 3, activation = 'relu', input_shape = [50,50,3]))"
      ],
      "execution_count": null,
      "outputs": []
    },
    {
      "cell_type": "code",
      "metadata": {
        "id": "uJJdAkb1h4PM"
      },
      "source": [
        "#Pooling\n",
        "cnn.add(tf.keras.layers.MaxPool2D(pool_size = (2, 2), strides = 2))"
      ],
      "execution_count": null,
      "outputs": []
    },
    {
      "cell_type": "code",
      "metadata": {
        "id": "F91L7IE5jIIJ"
      },
      "source": [
        "#2nd Convolution layer\n",
        "cnn.add(tf.keras.layers.Conv2D(filters=32, kernel_size = 3, activation = 'relu'))\n",
        "cnn.add(tf.keras.layers.MaxPool2D(pool_size = (2, 2), strides = 2))"
      ],
      "execution_count": null,
      "outputs": []
    },
    {
      "cell_type": "code",
      "metadata": {
        "id": "GMCmVG3PjVpb"
      },
      "source": [
        "#Flattening\n",
        "cnn.add(tf.keras.layers.Flatten())"
      ],
      "execution_count": null,
      "outputs": []
    },
    {
      "cell_type": "code",
      "metadata": {
        "id": "npK20Iigjv4t"
      },
      "source": [
        "#Full connection\n",
        "cnn.add(tf.keras.layers.Dense(units = 128, activation = 'relu'))"
      ],
      "execution_count": null,
      "outputs": []
    },
    {
      "cell_type": "code",
      "metadata": {
        "id": "l0Uhaq_5kJcr"
      },
      "source": [
        "#Output layer\n",
        "cnn.add(tf.keras.layers.Dense(units = 1, activation = 'sigmoid'))"
      ],
      "execution_count": null,
      "outputs": []
    },
    {
      "cell_type": "markdown",
      "metadata": {
        "id": "t9nHEVOfksAg"
      },
      "source": [
        "Training the CNN"
      ]
    },
    {
      "cell_type": "code",
      "metadata": {
        "id": "jJABR5zQkt9B"
      },
      "source": [
        "#Compiling the CNN\n",
        "cnn.compile(optimizer = 'adam', loss = 'binary_crossentropy', metrics= ['accuracy'])"
      ],
      "execution_count": null,
      "outputs": []
    },
    {
      "cell_type": "code",
      "metadata": {
        "id": "YCu6CahXlbz1"
      },
      "source": [
        "#Training the cnn\n",
        "cnn.fit(x= training_set, validation_data=test_set, epochs=25)"
      ],
      "execution_count": null,
      "outputs": []
    }
  ]
}